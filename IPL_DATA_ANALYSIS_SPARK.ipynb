{
 "cells": [
  {
   "cell_type": "code",
   "execution_count": 0,
   "metadata": {
    "application/vnd.databricks.v1+cell": {
     "cellMetadata": {
      "byteLimit": 2048000,
      "rowLimit": 10000
     },
     "inputWidgets": {},
     "nuid": "e4264662-2dee-42e2-972b-d50736078a1a",
     "showTitle": false,
     "title": ""
    }
   },
   "outputs": [
    {
     "output_type": "display_data",
     "data": {
      "text/html": [
       "\n",
       "            <div>\n",
       "                <p><b>SparkSession - hive</b></p>\n",
       "                \n",
       "        <div>\n",
       "            <p><b>SparkContext</b></p>\n",
       "\n",
       "            <p><a href=\"/?o=73381525782894#setting/sparkui/0503-195254-p9c5ixhe/driver-872830516834548449\">Spark UI</a></p>\n",
       "\n",
       "            <dl>\n",
       "              <dt>Version</dt>\n",
       "                <dd><code>v3.3.2</code></dd>\n",
       "              <dt>Master</dt>\n",
       "                <dd><code>local[8]</code></dd>\n",
       "              <dt>AppName</dt>\n",
       "                <dd><code>Databricks Shell</code></dd>\n",
       "            </dl>\n",
       "        </div>\n",
       "        \n",
       "            </div>\n",
       "        "
      ]
     },
     "metadata": {
      "application/vnd.databricks.v1+output": {
       "addedWidgets": {},
       "arguments": {},
       "data": "\n            <div>\n                <p><b>SparkSession - hive</b></p>\n                \n        <div>\n            <p><b>SparkContext</b></p>\n\n            <p><a href=\"/?o=73381525782894#setting/sparkui/0503-195254-p9c5ixhe/driver-872830516834548449\">Spark UI</a></p>\n\n            <dl>\n              <dt>Version</dt>\n                <dd><code>v3.3.2</code></dd>\n              <dt>Master</dt>\n                <dd><code>local[8]</code></dd>\n              <dt>AppName</dt>\n                <dd><code>Databricks Shell</code></dd>\n            </dl>\n        </div>\n        \n            </div>\n        ",
       "datasetInfos": [],
       "metadata": {},
       "removedWidgets": [],
       "textData": null,
       "type": "htmlSandbox"
      }
     },
     "output_type": "display_data"
    }
   ],
   "source": [
    "spark"
   ]
  },
  {
   "cell_type": "code",
   "execution_count": 0,
   "metadata": {
    "application/vnd.databricks.v1+cell": {
     "cellMetadata": {
      "byteLimit": 2048000,
      "rowLimit": 10000
     },
     "inputWidgets": {},
     "nuid": "6cdc3eaa-94cf-4468-a6fa-a95f13923e71",
     "showTitle": false,
     "title": ""
    }
   },
   "outputs": [],
   "source": [
    "from pyspark.sql import SparkSession\n",
    "#create spark session\n",
    "spark = SparkSession.builder.appName(\"IPL Data Analysis\").getOrCreate()"
   ]
  },
  {
   "cell_type": "code",
   "execution_count": 0,
   "metadata": {
    "application/vnd.databricks.v1+cell": {
     "cellMetadata": {
      "byteLimit": 2048000,
      "rowLimit": 10000
     },
     "inputWidgets": {},
     "nuid": "02b73354-4e51-4b61-9fd4-3e9393df2308",
     "showTitle": false,
     "title": ""
    }
   },
   "outputs": [],
   "source": [
    "from pyspark.sql.types import StructField, StructType, StringType, IntegerType, DecimalType, DateType, BooleanType\n",
    "from pyspark.sql.functions import col, when, sum, avg, row_number \n",
    "from pyspark.sql.window import Window"
   ]
  },
  {
   "cell_type": "code",
   "execution_count": 0,
   "metadata": {
    "application/vnd.databricks.v1+cell": {
     "cellMetadata": {
      "byteLimit": 2048000,
      "rowLimit": 10000
     },
     "inputWidgets": {},
     "nuid": "2e27581c-1b7e-468c-b993-a2f83cc89306",
     "showTitle": false,
     "title": ""
    }
   },
   "outputs": [],
   "source": [
    "# command to keep the data type of columns same as that in source file\n",
    "\n",
    "ball_by_ball_schema = StructType([\n",
    "    StructField(\"match_id\", IntegerType(), True),\n",
    "    StructField(\"over_id\", IntegerType(), True),\n",
    "    StructField(\"ball_id\", IntegerType(), True),\n",
    "    StructField(\"innings_no\", IntegerType(), True),\n",
    "    StructField(\"team_batting\", StringType(), True),\n",
    "    StructField(\"team_bowling\", StringType(), True),\n",
    "    StructField(\"striker_batting_position\", IntegerType(), True),\n",
    "    StructField(\"extra_type\", StringType(), True),\n",
    "    StructField(\"runs_scored\", IntegerType(), True),\n",
    "    StructField(\"extra_runs\", IntegerType(), True),\n",
    "    StructField(\"wides\", IntegerType(), True),\n",
    "    StructField(\"legbyes\", IntegerType(), True),\n",
    "    StructField(\"byes\", IntegerType(), True),\n",
    "    StructField(\"noballs\", IntegerType(), True),\n",
    "    StructField(\"penalty\", IntegerType(), True),\n",
    "    StructField(\"bowler_extras\", IntegerType(), True),\n",
    "    StructField(\"out_type\", StringType(), True),\n",
    "    StructField(\"caught\", BooleanType(), True),\n",
    "    StructField(\"bowled\", BooleanType(), True),\n",
    "    StructField(\"run_out\", BooleanType(), True),\n",
    "    StructField(\"lbw\", BooleanType(), True),\n",
    "    StructField(\"retired_hurt\", BooleanType(), True),\n",
    "    StructField(\"stumped\", BooleanType(), True),\n",
    "    StructField(\"caught_and_bowled\", BooleanType(), True),\n",
    "    StructField(\"hit_wicket\", BooleanType(), True),\n",
    "    StructField(\"obstructingfeild\", BooleanType(), True),\n",
    "    StructField(\"bowler_wicket\", BooleanType(), True),\n",
    "    StructField(\"match_date\", DateType(), True),\n",
    "    StructField(\"season\", IntegerType(), True),\n",
    "    StructField(\"striker\", IntegerType(), True),\n",
    "    StructField(\"non_striker\", IntegerType(), True),\n",
    "    StructField(\"bowler\", IntegerType(), True),\n",
    "    StructField(\"player_out\", IntegerType(), True),\n",
    "    StructField(\"fielders\", IntegerType(), True),\n",
    "    StructField(\"striker_match_sk\", IntegerType(), True),\n",
    "    StructField(\"strikersk\", IntegerType(), True),\n",
    "    StructField(\"nonstriker_match_sk\", IntegerType(), True),\n",
    "    StructField(\"nonstriker_sk\", IntegerType(), True),\n",
    "    StructField(\"fielder_match_sk\", IntegerType(), True),\n",
    "    StructField(\"fielder_sk\", IntegerType(), True),\n",
    "    StructField(\"bowler_match_sk\", IntegerType(), True),\n",
    "    StructField(\"bowler_sk\", IntegerType(), True),\n",
    "    StructField(\"playerout_match_sk\", IntegerType(), True),\n",
    "    StructField(\"battingteam_sk\", IntegerType(), True),\n",
    "    StructField(\"bowlingteam_sk\", IntegerType(), True),\n",
    "    StructField(\"keeper_catch\", BooleanType(), True),\n",
    "    StructField(\"player_out_sk\", IntegerType(), True),\n",
    "    StructField(\"matchdatesk\", DateType(), True)\n",
    "])"
   ]
  },
  {
   "cell_type": "code",
   "execution_count": 0,
   "metadata": {
    "application/vnd.databricks.v1+cell": {
     "cellMetadata": {
      "byteLimit": 2048000,
      "rowLimit": 10000
     },
     "inputWidgets": {},
     "nuid": "ffab2a2c-f96c-459a-8deb-6949c283e2cb",
     "showTitle": false,
     "title": ""
    }
   },
   "outputs": [],
   "source": [
    "ball_by_ball_df = spark.read.schema(ball_by_ball_schema).format(\"csv\").load(\"s3://ipl-data-analysis-project/Ball_By_Ball.csv\", header = \"true\", inferschema = \"true\")"
   ]
  },
  {
   "cell_type": "code",
   "execution_count": 0,
   "metadata": {
    "application/vnd.databricks.v1+cell": {
     "cellMetadata": {
      "byteLimit": 2048000,
      "rowLimit": 10000
     },
     "inputWidgets": {},
     "nuid": "49a50c77-e1cf-4b95-b0f7-f103b46b5e01",
     "showTitle": false,
     "title": ""
    }
   },
   "outputs": [],
   "source": [
    "match_schema = StructType([\n",
    "    StructField(\"match_sk\", IntegerType(), True),\n",
    "    StructField(\"match_id\", IntegerType(), True),\n",
    "    StructField(\"team1\", StringType(), True),\n",
    "    StructField(\"team2\", StringType(), True),\n",
    "    StructField(\"match_date\", DateType(), True),\n",
    "    StructField(\"season_year\", IntegerType(), True),\n",
    "    StructField(\"venue_name\", StringType(), True),\n",
    "    StructField(\"city_name\", StringType(), True),\n",
    "    StructField(\"country_name\", StringType(), True),\n",
    "    StructField(\"toss_winner\", StringType(), True),\n",
    "    StructField(\"match_winner\", StringType(), True),\n",
    "    StructField(\"toss_name\", StringType(), True),\n",
    "    StructField(\"win_type\", StringType(), True),\n",
    "    StructField(\"outcome_type\", StringType(), True),\n",
    "    StructField(\"manofmach\", StringType(), True),\n",
    "    StructField(\"win_margin\", IntegerType(), True),\n",
    "    StructField(\"country_id\", IntegerType(), True)\n",
    "])"
   ]
  },
  {
   "cell_type": "code",
   "execution_count": 0,
   "metadata": {
    "application/vnd.databricks.v1+cell": {
     "cellMetadata": {
      "byteLimit": 2048000,
      "rowLimit": 10000
     },
     "inputWidgets": {},
     "nuid": "09b01487-6b01-43b9-a0a2-57f43d2e985d",
     "showTitle": false,
     "title": ""
    }
   },
   "outputs": [],
   "source": [
    "match_df = spark.read.schema(match_schema).format(\"csv\").load(\"s3://ipl-data-analysis-project/Match.csv\", header = \"true\", inferschema = \"true\")"
   ]
  },
  {
   "cell_type": "code",
   "execution_count": 0,
   "metadata": {
    "application/vnd.databricks.v1+cell": {
     "cellMetadata": {
      "byteLimit": 2048000,
      "rowLimit": 10000
     },
     "inputWidgets": {},
     "nuid": "7e10d206-2195-42eb-bff6-c57c43eddbf7",
     "showTitle": false,
     "title": ""
    }
   },
   "outputs": [],
   "source": [
    "player_schema = schema = StructType([\n",
    "    StructField(\"player_sk\", IntegerType(), True),\n",
    "    StructField(\"player_id\", IntegerType(), True),\n",
    "    StructField(\"player_name\", StringType(), True),\n",
    "    StructField(\"dob\", DateType(), True),\n",
    "    StructField(\"batting_hand\", StringType(), True),\n",
    "    StructField(\"bowling_skill\", StringType(), True),\n",
    "    StructField(\"country_name\", StringType(), True)\n",
    "])"
   ]
  },
  {
   "cell_type": "code",
   "execution_count": 0,
   "metadata": {
    "application/vnd.databricks.v1+cell": {
     "cellMetadata": {
      "byteLimit": 2048000,
      "rowLimit": 10000
     },
     "inputWidgets": {},
     "nuid": "ff3a6ce0-0cd1-4058-af13-c0353ca62647",
     "showTitle": false,
     "title": ""
    }
   },
   "outputs": [],
   "source": [
    "player_df = spark.read.schema(player_schema).format(\"csv\").load(\"s3://ipl-data-analysis-project/Player.csv\", header = \"true\", inferschema = \"true\")"
   ]
  },
  {
   "cell_type": "code",
   "execution_count": 0,
   "metadata": {
    "application/vnd.databricks.v1+cell": {
     "cellMetadata": {
      "byteLimit": 2048000,
      "rowLimit": 10000
     },
     "inputWidgets": {},
     "nuid": "452247ee-4e56-4738-839a-12f9c070566f",
     "showTitle": false,
     "title": ""
    }
   },
   "outputs": [],
   "source": [
    "player_match_schema = StructType([\n",
    "    StructField(\"player_match_sk\", IntegerType(), True),\n",
    "    StructField(\"playermatch_key\", DecimalType(), True),\n",
    "    StructField(\"match_id\", IntegerType(), True),\n",
    "    StructField(\"player_id\", IntegerType(), True),\n",
    "    StructField(\"player_name\", StringType(), True),\n",
    "    StructField(\"dob\", DateType(), True),\n",
    "    StructField(\"batting_hand\", StringType(), True),\n",
    "    StructField(\"bowling_skill\", StringType(), True),\n",
    "    StructField(\"country_name\", StringType(), True),\n",
    "    StructField(\"role_desc\", StringType(), True),\n",
    "    StructField(\"player_team\", StringType(), True),\n",
    "    StructField(\"opposit_team\", StringType(), True),\n",
    "    StructField(\"season_year\", IntegerType(), True),\n",
    "    StructField(\"is_manofthematch\", BooleanType(), True),\n",
    "    StructField(\"age_as_on_match\", IntegerType(), True),\n",
    "    StructField(\"isplayers_team_won\", BooleanType(), True),\n",
    "    StructField(\"batting_status\", StringType(), True),\n",
    "    StructField(\"bowling_status\", StringType(), True),\n",
    "    StructField(\"player_captain\", StringType(), True),\n",
    "    StructField(\"opposit_captain\", StringType(), True),\n",
    "    StructField(\"player_keeper\", StringType(), True),\n",
    "    StructField(\"opposit_keeper\", StringType(), True)\n",
    "])\n"
   ]
  },
  {
   "cell_type": "code",
   "execution_count": 0,
   "metadata": {
    "application/vnd.databricks.v1+cell": {
     "cellMetadata": {
      "byteLimit": 2048000,
      "rowLimit": 10000
     },
     "inputWidgets": {},
     "nuid": "1d368bf3-312d-4071-bf8c-f29be45dd9f6",
     "showTitle": false,
     "title": ""
    }
   },
   "outputs": [],
   "source": [
    "player_match_df = spark.read.schema(player_match_schema).format(\"csv\").load(\"s3://ipl-data-analysis-project/Player_match.csv\",header = \"true\",inferschema = \"true\")"
   ]
  },
  {
   "cell_type": "code",
   "execution_count": 0,
   "metadata": {
    "application/vnd.databricks.v1+cell": {
     "cellMetadata": {
      "byteLimit": 2048000,
      "rowLimit": 10000
     },
     "inputWidgets": {},
     "nuid": "2c4b1964-d47b-498e-a06d-4740d932556f",
     "showTitle": false,
     "title": ""
    }
   },
   "outputs": [
    {
     "output_type": "stream",
     "name": "stdout",
     "output_type": "stream",
     "text": [
      "Out[12]: 13993"
     ]
    }
   ],
   "source": [
    "player_match_df.count()"
   ]
  },
  {
   "cell_type": "code",
   "execution_count": 0,
   "metadata": {
    "application/vnd.databricks.v1+cell": {
     "cellMetadata": {
      "byteLimit": 2048000,
      "rowLimit": 10000
     },
     "inputWidgets": {},
     "nuid": "e848a8d2-4852-4072-b41b-62fb87c75031",
     "showTitle": false,
     "title": ""
    }
   },
   "outputs": [],
   "source": [
    "team_schema =  StructType([\n",
    "    StructField(\"team_sk\", IntegerType(), True),  # team_sk: integer\n",
    "    StructField(\"team_id\", IntegerType(), True),  # team_id: integer\n",
    "    StructField(\"team_name\", StringType(), True)  # team_name: string\n",
    "])"
   ]
  },
  {
   "cell_type": "code",
   "execution_count": 0,
   "metadata": {
    "application/vnd.databricks.v1+cell": {
     "cellMetadata": {
      "byteLimit": 2048000,
      "rowLimit": 10000
     },
     "inputWidgets": {},
     "nuid": "8f6a812b-e0b6-428e-9701-349da74491a0",
     "showTitle": false,
     "title": ""
    }
   },
   "outputs": [],
   "source": [
    "team_df = spark.read.schema(team_schema).format(\"csv\").load(\"s3://ipl-data-analysis-project/Team.csv\",header = \"true\", inferschema = \"true\")"
   ]
  },
  {
   "cell_type": "code",
   "execution_count": 0,
   "metadata": {
    "application/vnd.databricks.v1+cell": {
     "cellMetadata": {
      "byteLimit": 2048000,
      "rowLimit": 10000
     },
     "inputWidgets": {},
     "nuid": "f36b7ab8-c0ab-4d11-84e8-76a30bcb525e",
     "showTitle": false,
     "title": ""
    }
   },
   "outputs": [],
   "source": [
    "#filter to include only valid deliveries (removing wide ball and no ball)\n",
    "ball_by_ball_df = ball_by_ball_df.filter((col(\"wides\")==0) & (col(\"noballs\") ==0))\n",
    "\n",
    "#Aggregation: Calculate total runs and average runs scored in each match and inning\n",
    "total_and_avg_runs = ball_by_ball_df.groupBy(\"match_id\",\"innings_no\").agg(\n",
    "    sum(\"runs_scored\").alias(\"total_runs\"),\n",
    "    avg(\"runs_scored\").alias(\"average_runs\")\n",
    ")"
   ]
  },
  {
   "cell_type": "code",
   "execution_count": 0,
   "metadata": {
    "application/vnd.databricks.v1+cell": {
     "cellMetadata": {
      "byteLimit": 2048000,
      "rowLimit": 10000
     },
     "inputWidgets": {},
     "nuid": "60825601-8d73-4635-921f-ac05cfff3243",
     "showTitle": false,
     "title": ""
    }
   },
   "outputs": [],
   "source": [
    "#calculating running total of runs for each match in each over\n",
    "windowSpec = Window.partitionBy(\"match_id\",\"innings_no\").orderBy(\"over_id\")\n",
    "\n",
    "ball_by_ball_df = ball_by_ball_df.withColumn(\n",
    "    \"running_total_runs\",\n",
    "    sum(\"runs_scored\").over(windowSpec)\n",
    ")"
   ]
  },
  {
   "cell_type": "code",
   "execution_count": 0,
   "metadata": {
    "application/vnd.databricks.v1+cell": {
     "cellMetadata": {
      "byteLimit": 2048000,
      "rowLimit": 10000
     },
     "inputWidgets": {},
     "nuid": "2ffb0605-cdae-49fb-b579-bfd07842ecfb",
     "showTitle": false,
     "title": ""
    }
   },
   "outputs": [],
   "source": [
    "#conditional column: flag for high impact balls (either a wicket or more than 6 runs including extras)\n",
    "ball_by_ball_df = ball_by_ball_df.withColumn(\n",
    "    \"high_impact\",\n",
    "    when(((col(\"runs_scored\")+ col(\"extra_runs\"))> 6) | (col(\"bowler_wicket\")== True), True).otherwise(False)\n",
    ")"
   ]
  },
  {
   "cell_type": "code",
   "execution_count": 0,
   "metadata": {
    "application/vnd.databricks.v1+cell": {
     "cellMetadata": {
      "byteLimit": 2048000,
      "rowLimit": 10000
     },
     "inputWidgets": {},
     "nuid": "540dd2ae-817d-4d99-93ec-3f866b7afa4c",
     "showTitle": false,
     "title": ""
    }
   },
   "outputs": [
    {
     "output_type": "stream",
     "name": "stdout",
     "output_type": "stream",
     "text": [
      "+--------+-------+-------+----------+------------+------------+------------------------+----------+-----------+----------+-----+-------+----+-------+-------+-------------+--------------+------+------+-------+----+------------+-------+-----------------+----------+----------------+-------------+----------+------+-------+-----------+------+----------+--------+----------------+---------+-------------------+-------------+----------------+----------+---------------+---------+------------------+--------------+--------------+------------+-------------+-----------+------------------+-----------+\n|match_id|over_id|ball_id|innings_no|team_batting|team_bowling|striker_batting_position|extra_type|runs_scored|extra_runs|wides|legbyes|byes|noballs|penalty|bowler_extras|      out_type|caught|bowled|run_out| lbw|retired_hurt|stumped|caught_and_bowled|hit_wicket|obstructingfeild|bowler_wicket|match_date|season|striker|non_striker|bowler|player_out|fielders|striker_match_sk|strikersk|nonstriker_match_sk|nonstriker_sk|fielder_match_sk|fielder_sk|bowler_match_sk|bowler_sk|playerout_match_sk|battingteam_sk|bowlingteam_sk|keeper_catch|player_out_sk|matchdatesk|running_total_runs|high_impact|\n+--------+-------+-------+----------+------------+------------+------------------------+----------+-----------+----------+-----+-------+----+-------+-------+-------------+--------------+------+------+-------+----+------------+-------+-----------------+----------+----------------+-------------+----------+------+-------+-----------+------+----------+--------+----------------+---------+-------------------+-------------+----------------+----------+---------------+---------+------------------+--------------+--------------+------------+-------------+-----------+------------------+-----------+\n|  335987|      1|      1|         1|           1|           2|                       1|   legbyes|          0|         1|    0|      1|   0|      0|      0|            0|Not Applicable|  null|  null|   null|null|        null|   null|             null|      null|            null|         null|      null|  2008|      1|          2|    14|      null|    null|           12705|        0|              12706|            1|              -1|        -1|          12702|       13|                -1|             0|             1|        null|            0|       null|                 0|      false|\n|  335987|      1|      2|         1|           1|           2|                       2| No Extras|          0|         0|    0|      0|   0|      0|      0|            0|Not Applicable|  null|  null|   null|null|        null|   null|             null|      null|            null|         null|      null|  2008|      2|          1|    14|      null|    null|           12706|        1|              12705|            0|              -1|        -1|          12702|       13|                -1|             0|             1|        null|            0|       null|                 0|      false|\n|  335987|      1|      4|         1|           1|           2|                       2| No Extras|          0|         0|    0|      0|   0|      0|      0|            0|Not Applicable|  null|  null|   null|null|        null|   null|             null|      null|            null|         null|      null|  2008|      2|          1|    14|      null|    null|           12706|        1|              12705|            0|              -1|        -1|          12702|       13|                -1|             0|             1|        null|            0|       null|                 0|      false|\n|  335987|      1|      5|         1|           1|           2|                       2| No Extras|          0|         0|    0|      0|   0|      0|      0|            0|Not Applicable|  null|  null|   null|null|        null|   null|             null|      null|            null|         null|      null|  2008|      2|          1|    14|      null|    null|           12706|        1|              12705|            0|              -1|        -1|          12702|       13|                -1|             0|             1|        null|            0|       null|                 0|      false|\n|  335987|      1|      6|         1|           1|           2|                       2| No Extras|          0|         0|    0|      0|   0|      0|      0|            0|Not Applicable|  null|  null|   null|null|        null|   null|             null|      null|            null|         null|      null|  2008|      2|          1|    14|      null|    null|           12706|        1|              12705|            0|              -1|        -1|          12702|       13|                -1|             0|             1|        null|            0|       null|                 0|      false|\n|  335987|      1|      7|         1|           1|           2|                       2|   legbyes|          0|         1|    0|      1|   0|      0|      0|            0|Not Applicable|  null|  null|   null|null|        null|   null|             null|      null|            null|         null|      null|  2008|      2|          1|    14|      null|    null|           12706|        1|              12705|            0|              -1|        -1|          12702|       13|                -1|             0|             1|        null|            0|       null|                 0|      false|\n|  335987|      2|      1|         1|           1|           2|                       2| No Extras|          0|         0|    0|      0|   0|      0|      0|            0|Not Applicable|  null|  null|   null|null|        null|   null|             null|      null|            null|         null|      null|  2008|      2|          1|    15|      null|    null|           12706|        1|              12705|            0|              -1|        -1|          12703|       14|                -1|             0|             1|        null|            0|       null|                18|      false|\n|  335987|      2|      2|         1|           1|           2|                       2| No Extras|          4|         0|    0|      0|   0|      0|      0|            0|Not Applicable|  null|  null|   null|null|        null|   null|             null|      null|            null|         null|      null|  2008|      2|          1|    15|      null|    null|           12706|        1|              12705|            0|              -1|        -1|          12703|       14|                -1|             0|             1|        null|            0|       null|                18|      false|\n|  335987|      2|      3|         1|           1|           2|                       2| No Extras|          4|         0|    0|      0|   0|      0|      0|            0|Not Applicable|  null|  null|   null|null|        null|   null|             null|      null|            null|         null|      null|  2008|      2|          1|    15|      null|    null|           12706|        1|              12705|            0|              -1|        -1|          12703|       14|                -1|             0|             1|        null|            0|       null|                18|      false|\n|  335987|      2|      4|         1|           1|           2|                       2| No Extras|          6|         0|    0|      0|   0|      0|      0|            0|Not Applicable|  null|  null|   null|null|        null|   null|             null|      null|            null|         null|      null|  2008|      2|          1|    15|      null|    null|           12706|        1|              12705|            0|              -1|        -1|          12703|       14|                -1|             0|             1|        null|            0|       null|                18|      false|\n|  335987|      2|      5|         1|           1|           2|                       2| No Extras|          4|         0|    0|      0|   0|      0|      0|            0|Not Applicable|  null|  null|   null|null|        null|   null|             null|      null|            null|         null|      null|  2008|      2|          1|    15|      null|    null|           12706|        1|              12705|            0|              -1|        -1|          12703|       14|                -1|             0|             1|        null|            0|       null|                18|      false|\n|  335987|      2|      6|         1|           1|           2|                       2| No Extras|          0|         0|    0|      0|   0|      0|      0|            0|Not Applicable|  null|  null|   null|null|        null|   null|             null|      null|            null|         null|      null|  2008|      2|          1|    15|      null|    null|           12706|        1|              12705|            0|              -1|        -1|          12703|       14|                -1|             0|             1|        null|            0|       null|                18|      false|\n|  335987|      3|      1|         1|           1|           2|                       1| No Extras|          0|         0|    0|      0|   0|      0|      0|            0|Not Applicable|  null|  null|   null|null|        null|   null|             null|      null|            null|         null|      null|  2008|      1|          2|    14|      null|    null|           12705|        0|              12706|            1|              -1|        -1|          12702|       13|                -1|             0|             1|        null|            0|       null|                23|      false|\n|  335987|      3|      2|         1|           1|           2|                       1| No Extras|          0|         0|    0|      0|   0|      0|      0|            0|Not Applicable|  null|  null|   null|null|        null|   null|             null|      null|            null|         null|      null|  2008|      1|          2|    14|      null|    null|           12705|        0|              12706|            1|              -1|        -1|          12702|       13|                -1|             0|             1|        null|            0|       null|                23|      false|\n|  335987|      3|      3|         1|           1|           2|                       1|   legbyes|          0|         1|    0|      1|   0|      0|      0|            0|Not Applicable|  null|  null|   null|null|        null|   null|             null|      null|            null|         null|      null|  2008|      1|          2|    14|      null|    null|           12705|        0|              12706|            1|              -1|        -1|          12702|       13|                -1|             0|             1|        null|            0|       null|                23|      false|\n|  335987|      3|      4|         1|           1|           2|                       2| No Extras|          4|         0|    0|      0|   0|      0|      0|            0|Not Applicable|  null|  null|   null|null|        null|   null|             null|      null|            null|         null|      null|  2008|      2|          1|    14|      null|    null|           12706|        1|              12705|            0|              -1|        -1|          12702|       13|                -1|             0|             1|        null|            0|       null|                23|      false|\n|  335987|      3|      5|         1|           1|           2|                       2| No Extras|          1|         0|    0|      0|   0|      0|      0|            0|Not Applicable|  null|  null|   null|null|        null|   null|             null|      null|            null|         null|      null|  2008|      2|          1|    14|      null|    null|           12706|        1|              12705|            0|              -1|        -1|          12702|       13|                -1|             0|             1|        null|            0|       null|                23|      false|\n|  335987|      3|      6|         1|           1|           2|                       1| No Extras|          0|         0|    0|      0|   0|      0|      0|            0|Not Applicable|  null|  null|   null|null|        null|   null|             null|      null|            null|         null|      null|  2008|      1|          2|    14|      null|    null|           12705|        0|              12706|            1|              -1|        -1|          12702|       13|                -1|             0|             1|        null|            0|       null|                23|      false|\n|  335987|      4|      2|         1|           1|           2|                       2| No Extras|          6|         0|    0|      0|   0|      0|      0|            0|Not Applicable|  null|  null|   null|null|        null|   null|             null|      null|            null|         null|      null|  2008|      2|          1|    13|      null|    null|           12706|        1|              12705|            0|              -1|        -1|          12701|       12|                -1|             0|             1|        null|            0|       null|                40|      false|\n|  335987|      4|      3|         1|           1|           2|                       2|   legbyes|          0|         1|    0|      1|   0|      0|      0|            0|Not Applicable|  null|  null|   null|null|        null|   null|             null|      null|            null|         null|      null|  2008|      2|          1|    13|      null|    null|           12706|        1|              12705|            0|              -1|        -1|          12701|       12|                -1|             0|             1|        null|            0|       null|                40|      false|\n+--------+-------+-------+----------+------------+------------+------------------------+----------+-----------+----------+-----+-------+----+-------+-------+-------------+--------------+------+------+-------+----+------------+-------+-----------------+----------+----------------+-------------+----------+------+-------+-----------+------+----------+--------+----------------+---------+-------------------+-------------+----------------+----------+---------------+---------+------------------+--------------+--------------+------------+-------------+-----------+------------------+-----------+\nonly showing top 20 rows\n\n"
     ]
    }
   ],
   "source": [
    "ball_by_ball_df.show()"
   ]
  },
  {
   "cell_type": "code",
   "execution_count": 0,
   "metadata": {
    "application/vnd.databricks.v1+cell": {
     "cellMetadata": {
      "byteLimit": 2048000,
      "rowLimit": 10000
     },
     "inputWidgets": {},
     "nuid": "ca2d6812-59e5-4bf8-b8c4-a3a5a1f6af67",
     "showTitle": false,
     "title": ""
    }
   },
   "outputs": [],
   "source": [
    "from pyspark.sql.functions import year, month, dayofmonth, when\n",
    "\n",
    "#Extracting year, month, day from the match date for more detailed time based analysis\n",
    "match_df = match_df.withColumn(\"year\", year(\"match_date\"))\n",
    "match_df = match_df.withColumn(\"month\",month(\"match_date\"))\n",
    "match_df = match_df.withColumn(\"day\", dayofmonth(\"match_date\"))\n",
    "\n",
    "#High margin win: categorizing win margins into high, medium and low\n",
    "\n",
    "match_df = match_df.withColumn(\n",
    "    \"win_margin_category\", \n",
    "    when (col(\"win_margin\")>= 100, \"High\").\n",
    "    when((col(\"win_margin\") >= 50) & (col(\"win_margin\") < 100), \"Medium\").otherwise(\"Low\")\n",
    ")\n",
    "\n",
    "#Analyze the impact of the toss: who wins the toss and the match both\n",
    "\n",
    "match_df = match_df.withColumn(\n",
    "    \"toss_match_winner\",\n",
    "    when(col(\"match_winner\") == col(\"toss_winner\"), \"Yes\").\n",
    "    otherwise(\"No\")\n",
    ")\n",
    "\n"
   ]
  },
  {
   "cell_type": "code",
   "execution_count": 0,
   "metadata": {
    "application/vnd.databricks.v1+cell": {
     "cellMetadata": {
      "byteLimit": 2048000,
      "rowLimit": 10000
     },
     "inputWidgets": {},
     "nuid": "c5d929f0-4b90-4be3-9884-4499e536b14e",
     "showTitle": false,
     "title": ""
    }
   },
   "outputs": [
    {
     "output_type": "stream",
     "name": "stdout",
     "output_type": "stream",
     "text": [
      "+---------+---------+-----------+----+--------------+----------------+------------+-------------+\n|player_sk|player_id|player_name| dob|  batting_hand|   bowling_skill|country_name|batting_style|\n+---------+---------+-----------+----+--------------+----------------+------------+-------------+\n|        0|        1| sc ganguly|null| Left-hand bat|Right-arm medium|       India|  Left-Handed|\n|        1|        2|bb mccullum|null|Right-hand bat|Right-arm medium| New Zealand| Right-Handed|\n+---------+---------+-----------+----+--------------+----------------+------------+-------------+\nonly showing top 2 rows\n\n"
     ]
    }
   ],
   "source": [
    "from pyspark.sql.functions import regexp_replace, lower\n",
    "\n",
    "#clean player names\n",
    "player_df = player_df.withColumn(\"player_name\", lower(regexp_replace(\"player_name\",\"[^a-zA-Z0-9 ]\",\"\")))\n",
    "\n",
    "#replace missing values in \"batting_hand\", \"bowling_skill\" with a default unknown\n",
    "player_df = player_df.na.fill({\"batting_hand\" : \"unknown\", \"bowling_skill\": \"unknown\"})\n",
    "\n",
    "#categorizing player based on batting hand\n",
    "player_df = player_df.withColumn(\"batting_style\",\n",
    "                                 when(col(\"batting_hand\").contains(\"Left\"),\"Left-Handed\").otherwise(\"Right-Handed\") )\n",
    "\n",
    "player_df.show(2)\n"
   ]
  },
  {
   "cell_type": "code",
   "execution_count": 0,
   "metadata": {
    "application/vnd.databricks.v1+cell": {
     "cellMetadata": {
      "byteLimit": 2048000,
      "rowLimit": 10000
     },
     "inputWidgets": {},
     "nuid": "0cb6d287-7569-4fab-8e91-2aea8cca7ee6",
     "showTitle": false,
     "title": ""
    }
   },
   "outputs": [
    {
     "output_type": "stream",
     "name": "stdout",
     "output_type": "stream",
     "text": [
      "Out[21]: 13993"
     ]
    }
   ],
   "source": [
    "from pyspark.sql.functions import col, when, current_date\n",
    "\n",
    "#Add a veteran_status col based on player's age\n",
    "player_match_df = player_match_df.withColumn( \"veteran_status\",\n",
    "    when(col(\"age_as_on_match\") >= 35, \"Veteran\").otherwise(\"Non-Veteran\")\n",
    ") \n",
    "\n",
    "\n",
    "#Dynamic column to calculate years since debut\n",
    "player_match_df = player_match_df.withColumn(\"years_since_debut\",\n",
    "                                             year(current_date())- col(\"season_year\") )\n",
    "#Show year\n",
    "player_match_df.count()"
   ]
  },
  {
   "cell_type": "code",
   "execution_count": 0,
   "metadata": {
    "application/vnd.databricks.v1+cell": {
     "cellMetadata": {
      "byteLimit": 2048000,
      "rowLimit": 10000
     },
     "inputWidgets": {},
     "nuid": "ea4eda06-3585-4b6e-9b1e-05177401b84f",
     "showTitle": false,
     "title": ""
    }
   },
   "outputs": [],
   "source": [
    "ball_by_ball_df.createOrReplaceTempView(\"ball_by_ball\")\n",
    "match_df.createOrReplaceTempView(\"match\")\n",
    "player_df.createOrReplaceTempView(\"player\")\n",
    "player_match_df.createOrReplaceTempView(\"player_match\")\n",
    "team_df.createOrReplaceTempView(\"team\")"
   ]
  },
  {
   "cell_type": "code",
   "execution_count": 0,
   "metadata": {
    "application/vnd.databricks.v1+cell": {
     "cellMetadata": {
      "byteLimit": 2048000,
      "implicitDf": true,
      "rowLimit": 10000
     },
     "inputWidgets": {},
     "nuid": "5e64a70d-69b7-49dc-bae5-b950e6436fc3",
     "showTitle": false,
     "title": ""
    }
   },
   "outputs": [
    {
     "output_type": "stream",
     "name": "stdout",
     "output_type": "stream",
     "text": [
      "Out[23]: 13993"
     ]
    }
   ],
   "source": [
    "player_match_df.count()"
   ]
  },
  {
   "cell_type": "code",
   "execution_count": 0,
   "metadata": {
    "application/vnd.databricks.v1+cell": {
     "cellMetadata": {
      "byteLimit": 2048000,
      "rowLimit": 10000
     },
     "inputWidgets": {},
     "nuid": "a644ffb5-487c-4599-894e-80cf2e7cd5c8",
     "showTitle": false,
     "title": ""
    }
   },
   "outputs": [],
   "source": [
    "top_scoring_batsman_per_season = spark.sql(\"\"\"\n",
    "                                           select p.player_name,m.season_year, sum(b.runs_scored) as total_runs\n",
    "                                           from ball_by_ball b,match m,player_match pm,player p\n",
    "                                           where b.match_id = m.match_id\n",
    "                                           and m.match_id = pm.match_id and b.striker = pm.player_id\n",
    "                                           and p.player_id = pm.player_id\n",
    "                                           group by p.player_name, m.season_year \n",
    "                                           order by m.season_year, total_runs desc\n",
    "                                           \"\"\")"
   ]
  },
  {
   "cell_type": "code",
   "execution_count": 0,
   "metadata": {
    "application/vnd.databricks.v1+cell": {
     "cellMetadata": {
      "byteLimit": 2048000,
      "rowLimit": 10000
     },
     "inputWidgets": {},
     "nuid": "c401357c-362b-44e4-82af-3546f3d7d701",
     "showTitle": false,
     "title": ""
    }
   },
   "outputs": [
    {
     "output_type": "stream",
     "name": "stdout",
     "output_type": "stream",
     "text": [
      "+-------------+-----------+----------+\n|  player_name|season_year|total_runs|\n+-------------+-----------+----------+\n|     se marsh|       2008|       614|\n|    g gambhir|       2008|       532|\n|st jayasuriya|       2008|       508|\n|    sr watson|       2008|       463|\n|     gc smith|       2008|       437|\n+-------------+-----------+----------+\nonly showing top 5 rows\n\n"
     ]
    }
   ],
   "source": [
    "top_scoring_batsman_per_season.show(5)"
   ]
  },
  {
   "cell_type": "code",
   "execution_count": 0,
   "metadata": {
    "application/vnd.databricks.v1+cell": {
     "cellMetadata": {
      "byteLimit": 2048000,
      "rowLimit": 10000
     },
     "inputWidgets": {},
     "nuid": "6bac6cf1-ad5e-4028-912d-256a0352201b",
     "showTitle": false,
     "title": ""
    }
   },
   "outputs": [
    {
     "output_type": "stream",
     "name": "stdout",
     "output_type": "stream",
     "text": [
      "+---------------+------------------+-------------+\n|    player_name| avg_runs_per_ball|total_wickets|\n+---------------+------------------+-------------+\n|smsm senanayake|0.8492063492063492|            0|\n|      sp narine| 0.929718875502008|            0|\n|     gd mcgrath|0.9324324324324325|            0|\n|     sl malinga|0.9407630522088354|            0|\n|  sohail tanvir| 0.946969696969697|            0|\n+---------------+------------------+-------------+\nonly showing top 5 rows\n\n"
     ]
    }
   ],
   "source": [
    "#which bowler was most economical in the powerplay\n",
    "economic_bowler_powerplay = spark.sql(\"\"\"\n",
    "select p.player_name, AVG(b.runs_scored) as avg_runs_per_ball, COUNT(b.bowler_wicket) as total_wickets\n",
    "from ball_by_ball b \n",
    "JOIN player_match pm ON  b.match_id = pm.match_id and b.bowler = pm.player_id\n",
    "join player p on p.player_id = pm.player_id\n",
    "where over_id <=6\n",
    "group by p.player_name\n",
    "having count(*)>120\n",
    "order by avg_runs_per_ball, total_wickets desc\n",
    "\n",
    "\"\"\")\n",
    "\n",
    "economic_bowler_powerplay.show(5)"
   ]
  },
  {
   "cell_type": "code",
   "execution_count": 0,
   "metadata": {
    "application/vnd.databricks.v1+cell": {
     "cellMetadata": {
      "byteLimit": 2048000,
      "rowLimit": 10000
     },
     "inputWidgets": {},
     "nuid": "1ec10aed-187e-469b-a2fe-1ec91baa4d3b",
     "showTitle": false,
     "title": ""
    }
   },
   "outputs": [
    {
     "output_type": "stream",
     "name": "stdout",
     "output_type": "stream",
     "text": [
      "+--------+--------------------+---------+--------------------+-------------+\n|match_id|         toss_winner|toss_name|        match_winner|match_outcome|\n+--------+--------------------+---------+--------------------+-------------+\n|  335987|Royal Challengers...|    field|Kolkata Knight Ri...|         Lost|\n|  335988| Chennai Super Kings|      bat| Chennai Super Kings|          Won|\n|  335989|    Rajasthan Royals|      bat|    Delhi Daredevils|         Lost|\n|  335990|      Mumbai Indians|      bat|Royal Challengers...|         Lost|\n|  335991|     Deccan Chargers|      bat|Kolkata Knight Ri...|         Lost|\n+--------+--------------------+---------+--------------------+-------------+\nonly showing top 5 rows\n\n"
     ]
    }
   ],
   "source": [
    "#toss impact on individual matches\n",
    "toss_impact_individual_matches = spark.sql(\"\"\"\n",
    "                                           select m.match_id, m.toss_winner, m.toss_name, m.match_winner,\n",
    "                                           CASE WHEN m.toss_winner = m.match_winner then \"Won\" else \"Lost\" end as match_outcome\n",
    "                                           from match m\n",
    "                                           where m.toss_name is not null\n",
    "                                        order by m.match_id\n",
    "                                           \"\"\")\n",
    "toss_impact_individual_matches.show(5)"
   ]
  },
  {
   "cell_type": "code",
   "execution_count": 0,
   "metadata": {
    "application/vnd.databricks.v1+cell": {
     "cellMetadata": {
      "byteLimit": 2048000,
      "rowLimit": 10000
     },
     "inputWidgets": {},
     "nuid": "7a2ce352-0316-46f3-9f52-9b88aaac88de",
     "showTitle": false,
     "title": ""
    }
   },
   "outputs": [
    {
     "output_type": "display_data",
     "data": {
      "image/png": "[encoded data removed]"
     },
     "metadata": {
      "application/vnd.databricks.v1+output": {
       "addedWidgets": {},
       "arguments": {},
       "data": "data:image/png;base64,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\n",
       "datasetInfos": [],
       "metadata": {},
       "removedWidgets": [],
       "type": "image"
      }
     },
     "output_type": "display_data"
    }
   ],
   "source": [
    "#creating a countplot to see win/loss after winning toss\n",
    "import matplotlib.pyplot as plt\n",
    "import seaborn as sns\n",
    "toss_impact_pd = toss_impact_individual_matches.toPandas()\n",
    "plt.figure(figsize=(10,6))\n",
    "sns.countplot(x= 'toss_winner', hue = 'match_outcome', data = toss_impact_pd)\n",
    "plt.title('impact of Winning Toss on Match Outcomes')\n",
    "plt.xlabel('Toss Winner')\n",
    "plt.ylabel('Number of Matches')\n",
    "plt.legend(title = 'Match Outcome')\n",
    "plt.xticks(rotation = 45)\n",
    "plt.tight_layout()\n",
    "plt.show()"
   ]
  },
  {
   "cell_type": "code",
   "execution_count": 0,
   "metadata": {
    "application/vnd.databricks.v1+cell": {
     "cellMetadata": {},
     "inputWidgets": {},
     "nuid": "4df3bf97-1503-4da1-8470-05a829966bd4",
     "showTitle": false,
     "title": ""
    }
   },
   "outputs": [],
   "source": []
  }
 ],
 "metadata": {
  "application/vnd.databricks.v1+notebook": {
   "dashboards": [],
   "language": "python",
   "notebookMetadata": {
    "mostRecentlyExecutedCommandWithImplicitDF": {
     "commandId": -1,
     "dataframes": [
      "_sqldf"
     ]
    },
    "pythonIndentUnit": 4
   },
   "notebookName": "IPL_DATA_ANALYSIS_SPARK",
   "widgets": {}
  }
 },
 "nbformat": 4,
 "nbformat_minor": 0
}
